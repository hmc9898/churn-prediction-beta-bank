{
 "cells": [
  {
   "cell_type": "markdown",
   "metadata": {},
   "source": [
    "# Churn Customer Predictions for Beta Bank"
   ]
  },
  {
   "cell_type": "markdown",
   "metadata": {},
   "source": [
    "Beta Bank is facing customer churn, and retaining existing customers is more cost-effective than acquiring new ones. This project aims to develop a machine learning model to predict whether a customer will leave the bank, with a target F1-score of at least 0.59. The approach includes data preprocessing, exploratory analysis, model training, and handling class imbalance to improve predictions. Various machine learning models will be tested and optimized, with final performance evaluated using F1-score and AUC-ROC. The goal is to help Beta Bank identify at-risk customers early and improve retention strategies.\n",
    "\n",
    "Heather Marie Culligan \n",
    "\n",
    "Feb 2025"
   ]
  },
  {
   "cell_type": "markdown",
   "metadata": {},
   "source": [
    "Starting by importing libraries as usual:"
   ]
  },
  {
   "cell_type": "code",
   "execution_count": 20,
   "metadata": {},
   "outputs": [],
   "source": [
    "import pandas as pd\n",
    "import matplotlib.pyplot as plt\n",
    "import numpy as np\n",
    "from sklearn.preprocessing import OneHotEncoder, StandardScaler, LabelEncoder\n",
    "from sklearn.impute import SimpleImputer\n",
    "from sklearn.linear_model import LogisticRegression\n",
    "from sklearn.model_selection import train_test_split, GridSearchCV\n",
    "from sklearn.ensemble import RandomForestClassifier\n",
    "from sklearn.metrics import f1_score, roc_auc_score\n",
    "from sklearn.utils.class_weight import compute_class_weight\n",
    "from sklearn.utils import resample"
   ]
  },
  {
   "cell_type": "markdown",
   "metadata": {},
   "source": [
    "Now I import the dataset and take a quick overview look at the data."
   ]
  },
  {
   "cell_type": "code",
   "execution_count": 21,
   "metadata": {},
   "outputs": [],
   "source": [
    "df=pd.read_csv('/datasets/Churn.csv')"
   ]
  },
  {
   "cell_type": "code",
   "execution_count": 22,
   "metadata": {},
   "outputs": [
    {
     "name": "stdout",
     "output_type": "stream",
     "text": [
      "<class 'pandas.core.frame.DataFrame'>\n",
      "RangeIndex: 10000 entries, 0 to 9999\n",
      "Data columns (total 14 columns):\n",
      " #   Column           Non-Null Count  Dtype  \n",
      "---  ------           --------------  -----  \n",
      " 0   RowNumber        10000 non-null  int64  \n",
      " 1   CustomerId       10000 non-null  int64  \n",
      " 2   Surname          10000 non-null  object \n",
      " 3   CreditScore      10000 non-null  int64  \n",
      " 4   Geography        10000 non-null  object \n",
      " 5   Gender           10000 non-null  object \n",
      " 6   Age              10000 non-null  int64  \n",
      " 7   Tenure           9091 non-null   float64\n",
      " 8   Balance          10000 non-null  float64\n",
      " 9   NumOfProducts    10000 non-null  int64  \n",
      " 10  HasCrCard        10000 non-null  int64  \n",
      " 11  IsActiveMember   10000 non-null  int64  \n",
      " 12  EstimatedSalary  10000 non-null  float64\n",
      " 13  Exited           10000 non-null  int64  \n",
      "dtypes: float64(3), int64(8), object(3)\n",
      "memory usage: 1.1+ MB\n"
     ]
    },
    {
     "data": {
      "text/plain": [
       "(None,\n",
       "    RowNumber  CustomerId   Surname  CreditScore Geography  Gender  Age  \\\n",
       " 0          1    15634602  Hargrave          619    France  Female   42   \n",
       " 1          2    15647311      Hill          608     Spain  Female   41   \n",
       " 2          3    15619304      Onio          502    France  Female   42   \n",
       " 3          4    15701354      Boni          699    France  Female   39   \n",
       " 4          5    15737888  Mitchell          850     Spain  Female   43   \n",
       " \n",
       "    Tenure    Balance  NumOfProducts  HasCrCard  IsActiveMember  \\\n",
       " 0     2.0       0.00              1          1               1   \n",
       " 1     1.0   83807.86              1          0               1   \n",
       " 2     8.0  159660.80              3          1               0   \n",
       " 3     1.0       0.00              2          0               0   \n",
       " 4     2.0  125510.82              1          1               1   \n",
       " \n",
       "    EstimatedSalary  Exited  \n",
       " 0        101348.88       1  \n",
       " 1        112542.58       0  \n",
       " 2        113931.57       1  \n",
       " 3         93826.63       0  \n",
       " 4         79084.10       0  )"
      ]
     },
     "execution_count": 22,
     "metadata": {},
     "output_type": "execute_result"
    }
   ],
   "source": [
    "df.info(), df.head()"
   ]
  },
  {
   "cell_type": "code",
   "execution_count": 23,
   "metadata": {},
   "outputs": [
    {
     "data": {
      "text/html": [
       "<div>\n",
       "<style scoped>\n",
       "    .dataframe tbody tr th:only-of-type {\n",
       "        vertical-align: middle;\n",
       "    }\n",
       "\n",
       "    .dataframe tbody tr th {\n",
       "        vertical-align: top;\n",
       "    }\n",
       "\n",
       "    .dataframe thead th {\n",
       "        text-align: right;\n",
       "    }\n",
       "</style>\n",
       "<table border=\"1\" class=\"dataframe\">\n",
       "  <thead>\n",
       "    <tr style=\"text-align: right;\">\n",
       "      <th></th>\n",
       "      <th>RowNumber</th>\n",
       "      <th>CustomerId</th>\n",
       "      <th>CreditScore</th>\n",
       "      <th>Age</th>\n",
       "      <th>Tenure</th>\n",
       "      <th>Balance</th>\n",
       "      <th>NumOfProducts</th>\n",
       "      <th>HasCrCard</th>\n",
       "      <th>IsActiveMember</th>\n",
       "      <th>EstimatedSalary</th>\n",
       "      <th>Exited</th>\n",
       "    </tr>\n",
       "  </thead>\n",
       "  <tbody>\n",
       "    <tr>\n",
       "      <th>count</th>\n",
       "      <td>10000.00000</td>\n",
       "      <td>1.000000e+04</td>\n",
       "      <td>10000.000000</td>\n",
       "      <td>10000.000000</td>\n",
       "      <td>9091.000000</td>\n",
       "      <td>10000.000000</td>\n",
       "      <td>10000.000000</td>\n",
       "      <td>10000.00000</td>\n",
       "      <td>10000.000000</td>\n",
       "      <td>10000.000000</td>\n",
       "      <td>10000.000000</td>\n",
       "    </tr>\n",
       "    <tr>\n",
       "      <th>mean</th>\n",
       "      <td>5000.50000</td>\n",
       "      <td>1.569094e+07</td>\n",
       "      <td>650.528800</td>\n",
       "      <td>38.921800</td>\n",
       "      <td>4.997690</td>\n",
       "      <td>76485.889288</td>\n",
       "      <td>1.530200</td>\n",
       "      <td>0.70550</td>\n",
       "      <td>0.515100</td>\n",
       "      <td>100090.239881</td>\n",
       "      <td>0.203700</td>\n",
       "    </tr>\n",
       "    <tr>\n",
       "      <th>std</th>\n",
       "      <td>2886.89568</td>\n",
       "      <td>7.193619e+04</td>\n",
       "      <td>96.653299</td>\n",
       "      <td>10.487806</td>\n",
       "      <td>2.894723</td>\n",
       "      <td>62397.405202</td>\n",
       "      <td>0.581654</td>\n",
       "      <td>0.45584</td>\n",
       "      <td>0.499797</td>\n",
       "      <td>57510.492818</td>\n",
       "      <td>0.402769</td>\n",
       "    </tr>\n",
       "    <tr>\n",
       "      <th>min</th>\n",
       "      <td>1.00000</td>\n",
       "      <td>1.556570e+07</td>\n",
       "      <td>350.000000</td>\n",
       "      <td>18.000000</td>\n",
       "      <td>0.000000</td>\n",
       "      <td>0.000000</td>\n",
       "      <td>1.000000</td>\n",
       "      <td>0.00000</td>\n",
       "      <td>0.000000</td>\n",
       "      <td>11.580000</td>\n",
       "      <td>0.000000</td>\n",
       "    </tr>\n",
       "    <tr>\n",
       "      <th>25%</th>\n",
       "      <td>2500.75000</td>\n",
       "      <td>1.562853e+07</td>\n",
       "      <td>584.000000</td>\n",
       "      <td>32.000000</td>\n",
       "      <td>2.000000</td>\n",
       "      <td>0.000000</td>\n",
       "      <td>1.000000</td>\n",
       "      <td>0.00000</td>\n",
       "      <td>0.000000</td>\n",
       "      <td>51002.110000</td>\n",
       "      <td>0.000000</td>\n",
       "    </tr>\n",
       "    <tr>\n",
       "      <th>50%</th>\n",
       "      <td>5000.50000</td>\n",
       "      <td>1.569074e+07</td>\n",
       "      <td>652.000000</td>\n",
       "      <td>37.000000</td>\n",
       "      <td>5.000000</td>\n",
       "      <td>97198.540000</td>\n",
       "      <td>1.000000</td>\n",
       "      <td>1.00000</td>\n",
       "      <td>1.000000</td>\n",
       "      <td>100193.915000</td>\n",
       "      <td>0.000000</td>\n",
       "    </tr>\n",
       "    <tr>\n",
       "      <th>75%</th>\n",
       "      <td>7500.25000</td>\n",
       "      <td>1.575323e+07</td>\n",
       "      <td>718.000000</td>\n",
       "      <td>44.000000</td>\n",
       "      <td>7.000000</td>\n",
       "      <td>127644.240000</td>\n",
       "      <td>2.000000</td>\n",
       "      <td>1.00000</td>\n",
       "      <td>1.000000</td>\n",
       "      <td>149388.247500</td>\n",
       "      <td>0.000000</td>\n",
       "    </tr>\n",
       "    <tr>\n",
       "      <th>max</th>\n",
       "      <td>10000.00000</td>\n",
       "      <td>1.581569e+07</td>\n",
       "      <td>850.000000</td>\n",
       "      <td>92.000000</td>\n",
       "      <td>10.000000</td>\n",
       "      <td>250898.090000</td>\n",
       "      <td>4.000000</td>\n",
       "      <td>1.00000</td>\n",
       "      <td>1.000000</td>\n",
       "      <td>199992.480000</td>\n",
       "      <td>1.000000</td>\n",
       "    </tr>\n",
       "  </tbody>\n",
       "</table>\n",
       "</div>"
      ],
      "text/plain": [
       "         RowNumber    CustomerId   CreditScore           Age       Tenure  \\\n",
       "count  10000.00000  1.000000e+04  10000.000000  10000.000000  9091.000000   \n",
       "mean    5000.50000  1.569094e+07    650.528800     38.921800     4.997690   \n",
       "std     2886.89568  7.193619e+04     96.653299     10.487806     2.894723   \n",
       "min        1.00000  1.556570e+07    350.000000     18.000000     0.000000   \n",
       "25%     2500.75000  1.562853e+07    584.000000     32.000000     2.000000   \n",
       "50%     5000.50000  1.569074e+07    652.000000     37.000000     5.000000   \n",
       "75%     7500.25000  1.575323e+07    718.000000     44.000000     7.000000   \n",
       "max    10000.00000  1.581569e+07    850.000000     92.000000    10.000000   \n",
       "\n",
       "             Balance  NumOfProducts    HasCrCard  IsActiveMember  \\\n",
       "count   10000.000000   10000.000000  10000.00000    10000.000000   \n",
       "mean    76485.889288       1.530200      0.70550        0.515100   \n",
       "std     62397.405202       0.581654      0.45584        0.499797   \n",
       "min         0.000000       1.000000      0.00000        0.000000   \n",
       "25%         0.000000       1.000000      0.00000        0.000000   \n",
       "50%     97198.540000       1.000000      1.00000        1.000000   \n",
       "75%    127644.240000       2.000000      1.00000        1.000000   \n",
       "max    250898.090000       4.000000      1.00000        1.000000   \n",
       "\n",
       "       EstimatedSalary        Exited  \n",
       "count     10000.000000  10000.000000  \n",
       "mean     100090.239881      0.203700  \n",
       "std       57510.492818      0.402769  \n",
       "min          11.580000      0.000000  \n",
       "25%       51002.110000      0.000000  \n",
       "50%      100193.915000      0.000000  \n",
       "75%      149388.247500      0.000000  \n",
       "max      199992.480000      1.000000  "
      ]
     },
     "execution_count": 23,
     "metadata": {},
     "output_type": "execute_result"
    }
   ],
   "source": [
    "df.describe()"
   ]
  },
  {
   "cell_type": "code",
   "execution_count": 24,
   "metadata": {},
   "outputs": [
    {
     "data": {
      "text/plain": [
       "RowNumber            0\n",
       "CustomerId           0\n",
       "Surname              0\n",
       "CreditScore          0\n",
       "Geography            0\n",
       "Gender               0\n",
       "Age                  0\n",
       "Tenure             909\n",
       "Balance              0\n",
       "NumOfProducts        0\n",
       "HasCrCard            0\n",
       "IsActiveMember       0\n",
       "EstimatedSalary      0\n",
       "Exited               0\n",
       "dtype: int64"
      ]
     },
     "execution_count": 24,
     "metadata": {},
     "output_type": "execute_result"
    }
   ],
   "source": [
    "missing_val= df.isnull().sum()\n",
    "missing_val"
   ]
  },
  {
   "cell_type": "markdown",
   "metadata": {},
   "source": [
    "Time to fix the missing values, first, I have to determine the best way to handle the null values:"
   ]
  },
  {
   "cell_type": "code",
   "execution_count": 25,
   "metadata": {},
   "outputs": [
    {
     "data": {
      "text/plain": [
       "count    9091.000000\n",
       "mean        4.997690\n",
       "std         2.894723\n",
       "min         0.000000\n",
       "25%         2.000000\n",
       "50%         5.000000\n",
       "75%         7.000000\n",
       "max        10.000000\n",
       "Name: Tenure, dtype: float64"
      ]
     },
     "execution_count": 25,
     "metadata": {},
     "output_type": "execute_result"
    }
   ],
   "source": [
    "df[\"Tenure\"].describe()"
   ]
  },
  {
   "cell_type": "markdown",
   "metadata": {},
   "source": [
    "I will be filling with the median values for this set as it's less sensitive to outliers."
   ]
  },
  {
   "cell_type": "code",
   "execution_count": 26,
   "metadata": {},
   "outputs": [],
   "source": [
    "df[\"Tenure\"].fillna(df[\"Tenure\"].median(),inplace=True)"
   ]
  },
  {
   "cell_type": "code",
   "execution_count": 27,
   "metadata": {},
   "outputs": [
    {
     "data": {
      "text/plain": [
       "RowNumber          0\n",
       "CustomerId         0\n",
       "Surname            0\n",
       "CreditScore        0\n",
       "Geography          0\n",
       "Gender             0\n",
       "Age                0\n",
       "Tenure             0\n",
       "Balance            0\n",
       "NumOfProducts      0\n",
       "HasCrCard          0\n",
       "IsActiveMember     0\n",
       "EstimatedSalary    0\n",
       "Exited             0\n",
       "dtype: int64"
      ]
     },
     "execution_count": 27,
     "metadata": {},
     "output_type": "execute_result"
    }
   ],
   "source": [
    "missing_val_aft= df.isnull().sum()\n",
    "missing_val_aft"
   ]
  },
  {
   "cell_type": "markdown",
   "metadata": {},
   "source": [
    "Verified all nulls have been replaced. \n",
    "\n",
    "Now, to process the data we do not need some of the columns. I will drop those to help unclutter."
   ]
  },
  {
   "cell_type": "code",
   "execution_count": 28,
   "metadata": {},
   "outputs": [],
   "source": [
    "df.drop(columns=['RowNumber','CustomerId','Surname'], inplace=True)"
   ]
  },
  {
   "cell_type": "code",
   "execution_count": 29,
   "metadata": {},
   "outputs": [],
   "source": [
    "df=pd.get_dummies(df, columns=['Geography', 'Gender'],drop_first=True)"
   ]
  },
  {
   "cell_type": "markdown",
   "metadata": {},
   "source": [
    "Changing certain columns to numerical form helps us more eaasily process the data as a whole, streamlining the process.\n",
    "\n",
    "How unbalanced is the data?"
   ]
  },
  {
   "cell_type": "code",
   "execution_count": 30,
   "metadata": {},
   "outputs": [
    {
     "data": {
      "image/png": "[encoded data removed]",
      "text/plain": [
       "<Figure size 600x400 with 1 Axes>"
      ]
     },
     "metadata": {},
     "output_type": "display_data"
    },
    {
     "data": {
      "text/plain": [
       "0    7963\n",
       "1    2037\n",
       "Name: Exited, dtype: int64"
      ]
     },
     "execution_count": 30,
     "metadata": {},
     "output_type": "execute_result"
    }
   ],
   "source": [
    "class_counts = df['Exited'].value_counts()\n",
    "\n",
    "plt.figure(figsize=(6, 4))\n",
    "plt.bar(class_counts.index, class_counts.values, color=['blue', 'orange'])\n",
    "plt.xticks([0, 1], ['Stayed (0)', 'Exited (1)'])\n",
    "plt.xlabel('Customer Status')\n",
    "plt.ylabel('Count')\n",
    "plt.title('Class Distribution: Customer Churn')\n",
    "plt.show()\n",
    "\n",
    "class_counts"
   ]
  },
  {
   "cell_type": "markdown",
   "metadata": {},
   "source": [
    "The dataset is heavily imbalanced, with approximately 80% of customers staying (7,963) and only 20% exiting (2,037). This class imbalance can negatively impact model performance by biasing predictions toward the majority class, potentially leading to poor recall for customers likely to churn. Addressing this imbalance is crucial to improving model accuracy and ensuring it effectively identifies customers at risk of leaving the bank."
   ]
  },
  {
   "cell_type": "markdown",
   "metadata": {},
   "source": [
    "The dataset contained 10,000 records and 14 columns. Irrelevant columns were removed, missing values in Tenure were filled, and categorical varriables were encoded.\n",
    "\n",
    "The dataset is imbalanced, with 79.69% non-churn and 20.37% churn cases. To address this, I will apply class-weight balancing and random oversampling to improve model proformance."
   ]
  },
  {
   "cell_type": "code",
   "execution_count": 31,
   "metadata": {},
   "outputs": [],
   "source": [
    "X = df.drop(columns=['Exited'])\n",
    "y = df['Exited']"
   ]
  },
  {
   "cell_type": "code",
   "execution_count": 32,
   "metadata": {},
   "outputs": [
    {
     "data": {
      "text/plain": [
       "((7000, 11), (1500, 11), (1500, 11))"
      ]
     },
     "execution_count": 32,
     "metadata": {},
     "output_type": "execute_result"
    }
   ],
   "source": [
    "X_train, X_temp, y_train, y_temp = train_test_split(X, y, test_size=0.3, random_state=42, stratify=y)\n",
    "X_val, X_test, y_val, y_test = train_test_split(X_temp, y_temp, test_size=0.5, random_state=42, stratify=y_temp)\n",
    "X_train.shape, X_val.shape, X_test.shape"
   ]
  },
  {
   "cell_type": "markdown",
   "metadata": {},
   "source": [
    "Splitting the data into:\n",
    "Training: 7000 samples|\n",
    "Validation: 1500 samples|\n",
    "Test: 1500 samples|\n",
    "\n",
    "It has been stratified, so the class distribution remains consistant across all subsets."
   ]
  },
  {
   "cell_type": "code",
   "execution_count": 33,
   "metadata": {},
   "outputs": [],
   "source": [
    "scaler= StandardScaler()\n",
    "X_train_scaled= scaler.fit_transform(X_train)\n",
    "X_val_scaled= scaler.transform(X_val)\n",
    "X_test_scaled= scaler.transform(X_test)"
   ]
  },
  {
   "cell_type": "code",
   "execution_count": 34,
   "metadata": {},
   "outputs": [
    {
     "data": {
      "text/plain": [
       "(0.29, 0.7848063848655038)"
      ]
     },
     "execution_count": 34,
     "metadata": {},
     "output_type": "execute_result"
    }
   ],
   "source": [
    "baseline_model = LogisticRegression(random_state=42)\n",
    "baseline_model.fit(X_train_scaled, y_train)\n",
    "\n",
    "y_val_pred = baseline_model.predict(X_val_scaled)\n",
    "y_val_prob= baseline_model.predict_proba(X_val_scaled)[:,1]\n",
    "\n",
    "f1_baseline = f1_score(y_val, y_val_pred)\n",
    "auc_roc_baseline = roc_auc_score(y_val, y_val_prob)\n",
    "\n",
    "f1_baseline, auc_roc_baseline"
   ]
  },
  {
   "cell_type": "markdown",
   "metadata": {},
   "source": [
    "The baseline model had an F1-score of 0.29, which is below the required 0.59 threshold, indicating difficulty in balancing precision and recall due to class imbalance. However, the AUC-ROC score was 0.785, showing good overall discrimination. While AUC-ROC suggests strong performance, it doesn't fully reflect the challenge of correctly predicting the minority class (churned customers)."
   ]
  },
  {
   "cell_type": "code",
   "execution_count": 35,
   "metadata": {},
   "outputs": [
    {
     "data": {
      "text/plain": [
       "LogisticRegression(class_weight={0: 0.6279153211338356, 1: 2.4544179523141656},\n",
       "                   random_state=42)"
      ]
     },
     "execution_count": 35,
     "metadata": {},
     "output_type": "execute_result"
    }
   ],
   "source": [
    "class_weights= compute_class_weight(class_weight = \"balanced\",classes=np.unique(y_train), y=y_train)\n",
    "class_weight_dict= {0:class_weights[0],1: class_weights[1]}\n",
    "\n",
    "weighted_model= LogisticRegression(random_state=42, class_weight = class_weight_dict)\n",
    "weighted_model.fit(X_train_scaled, y_train)"
   ]
  },
  {
   "cell_type": "code",
   "execution_count": 36,
   "metadata": {},
   "outputs": [
    {
     "data": {
      "text/plain": [
       "(0.5182648401826484, 0.7893963280454561)"
      ]
     },
     "execution_count": 36,
     "metadata": {},
     "output_type": "execute_result"
    }
   ],
   "source": [
    "y_val_pred_weighted = weighted_model.predict(X_val_scaled)\n",
    "y_val_prob_weighted = weighted_model.predict_proba(X_val_scaled)[:,1]\n",
    "\n",
    "weighted_f1 =f1_score(y_val,y_val_pred_weighted)\n",
    "weighted_auc_roc =roc_auc_score(y_val,y_val_prob_weighted)\n",
    "weighted_f1, weighted_auc_roc"
   ]
  },
  {
   "cell_type": "code",
   "execution_count": 37,
   "metadata": {},
   "outputs": [
    {
     "name": "stdout",
     "output_type": "stream",
     "text": [
      "F1-Score: 0.698\n",
      "AUC-ROC: 0.778\n"
     ]
    }
   ],
   "source": [
    "df_majority=df[df.Exited == 0]\n",
    "df_minority=df[df.Exited == 1]\n",
    "\n",
    "df_minority_upsampled =resample(df_minority,\n",
    "                               replace=True,\n",
    "                               n_samples=len(df_majority),\n",
    "                               random_state=42)\n",
    "df_balanced = pd.concat([df_majority, df_minority_upsampled])\n",
    "\n",
    "X = df_balanced.drop(columns=['Exited'])\n",
    "y = df_balanced['Exited']\n",
    "\n",
    "X_train, X_temp, y_train, y_temp = train_test_split(X, y, test_size=0.3, random_state=42, stratify=y)\n",
    "X_val, X_test, y_val, y_test = train_test_split(X_temp, y_temp, test_size=0.5, random_state=42, stratify=y_temp)\n",
    "\n",
    "scaler = StandardScaler()\n",
    "X_train_scaled = scaler.fit_transform(X_train)\n",
    "X_val_scaled = scaler.transform(X_val)\n",
    "X_test_scaled = scaler.transform(X_test)\n",
    "\n",
    "model = LogisticRegression(random_state=42)\n",
    "model.fit(X_train_scaled, y_train)\n",
    "y_val_pred = model.predict(X_val_scaled)\n",
    "y_val_prob = model.predict_proba(X_val_scaled)[:, 1]\n",
    "\n",
    "f1 = f1_score(y_val, y_val_pred)\n",
    "auc_roc = roc_auc_score(y_val, y_val_prob)\n",
    "\n",
    "print(f\"F1-Score: {f1:.3f}\")\n",
    "print(f\"AUC-ROC: {auc_roc:.3f}\")"
   ]
  },
  {
   "cell_type": "markdown",
   "metadata": {},
   "source": [
    "I tested two methods to handle class imbalance: class weighting and manual oversampling. Class weighting adjusted the model to give more importance to the minority class, resulting in an F1-score of 0.518 and an AUC-ROC of 0.789. However, this approach did not meet the required 0.59 F1-score. Manual oversampling, which involved duplicating minority class samples, performed better with an F1-score of 0.698 and an AUC-ROC of 0.778. This confirms that balancing the dataset before training helps the model better capture patterns related to customer churn, improving recall without sacrificing overall predictive ability. Since manual oversampling exceeded the required threshold, it proved to be the best approach for improving model performance.\n",
    "\n",
    "Finally, time to run a test set to verigy performace:"
   ]
  },
  {
   "cell_type": "code",
   "execution_count": 38,
   "metadata": {},
   "outputs": [
    {
     "name": "stdout",
     "output_type": "stream",
     "text": [
      "Test F1-Score: 0.697\n",
      "Test AUC-ROC: 0.775\n"
     ]
    }
   ],
   "source": [
    "y_test_pred = model.predict(X_test_scaled)\n",
    "y_test_prob = model.predict_proba(X_test_scaled)[:, 1]\n",
    "\n",
    "test_f1 = f1_score(y_test, y_test_pred)\n",
    "test_auc_roc = roc_auc_score(y_test, y_test_prob)\n",
    "\n",
    "print(f\"Test F1-Score: {test_f1:.3f}\")\n",
    "print(f\"Test AUC-ROC: {test_auc_roc:.3f}\")"
   ]
  },
  {
   "cell_type": "markdown",
   "metadata": {},
   "source": [
    "This project successfully developed a predictive model for customer churn, achieving an F1-score above the required threshold. By addressing class imbalance through random oversampling, we enhanced the model’s performance and reliability. The results suggest that machine learning can effectively identify potential churners, allowing Beta Bank to take proactive retention measures.Future enhancements may focus on leveraging more complex models and fine-tuning hyperparameters to further improve prediction accuracy."
   ]
  }
 ],
 "metadata": {
  "ExecuteTimeLog": [
   {
    "duration": 300,
    "start_time": "2025-02-17T19:30:11.400Z"
   },
   {
    "duration": 578,
    "start_time": "2025-02-17T19:31:02.496Z"
   },
   {
    "duration": 81,
    "start_time": "2025-02-17T19:31:13.669Z"
   },
   {
    "duration": 63,
    "start_time": "2025-02-17T19:31:17.044Z"
   },
   {
    "duration": 71,
    "start_time": "2025-02-17T19:31:19.822Z"
   },
   {
    "duration": 37,
    "start_time": "2025-02-17T19:31:41.242Z"
   },
   {
    "duration": 33,
    "start_time": "2025-02-17T19:31:57.483Z"
   },
   {
    "duration": 18,
    "start_time": "2025-02-17T19:32:02.513Z"
   },
   {
    "duration": 7,
    "start_time": "2025-02-17T19:32:25.400Z"
   },
   {
    "duration": 7,
    "start_time": "2025-02-17T19:32:38.645Z"
   },
   {
    "duration": 36,
    "start_time": "2025-02-17T19:32:50.346Z"
   },
   {
    "duration": 8,
    "start_time": "2025-02-17T19:34:33.430Z"
   },
   {
    "duration": 4,
    "start_time": "2025-02-17T19:35:27.944Z"
   },
   {
    "duration": 6,
    "start_time": "2025-02-17T19:35:54.959Z"
   },
   {
    "duration": 7,
    "start_time": "2025-02-17T19:36:02.424Z"
   },
   {
    "duration": 3,
    "start_time": "2025-02-17T19:42:17.630Z"
   },
   {
    "duration": 666,
    "start_time": "2025-02-17T19:42:22.714Z"
   },
   {
    "duration": 4,
    "start_time": "2025-02-17T19:48:21.418Z"
   },
   {
    "duration": 688,
    "start_time": "2025-02-17T19:49:18.914Z"
   },
   {
    "duration": 759,
    "start_time": "2025-02-17T19:49:33.701Z"
   },
   {
    "duration": 17,
    "start_time": "2025-02-17T19:49:34.462Z"
   },
   {
    "duration": 20,
    "start_time": "2025-02-17T19:49:34.481Z"
   },
   {
    "duration": 46,
    "start_time": "2025-02-17T19:49:34.503Z"
   },
   {
    "duration": 6,
    "start_time": "2025-02-17T19:49:34.552Z"
   },
   {
    "duration": 6,
    "start_time": "2025-02-17T19:49:34.560Z"
   },
   {
    "duration": 4,
    "start_time": "2025-02-17T19:49:34.568Z"
   },
   {
    "duration": 5,
    "start_time": "2025-02-17T19:49:34.574Z"
   },
   {
    "duration": 4,
    "start_time": "2025-02-17T19:49:34.581Z"
   },
   {
    "duration": 218,
    "start_time": "2025-02-17T19:51:20.767Z"
   },
   {
    "duration": 771,
    "start_time": "2025-02-17T19:51:43.193Z"
   },
   {
    "duration": 16,
    "start_time": "2025-02-17T19:51:43.966Z"
   },
   {
    "duration": 17,
    "start_time": "2025-02-17T19:51:43.986Z"
   },
   {
    "duration": 28,
    "start_time": "2025-02-17T19:51:44.025Z"
   },
   {
    "duration": 7,
    "start_time": "2025-02-17T19:51:44.055Z"
   },
   {
    "duration": 6,
    "start_time": "2025-02-17T19:51:44.064Z"
   },
   {
    "duration": 3,
    "start_time": "2025-02-17T19:51:44.072Z"
   },
   {
    "duration": 5,
    "start_time": "2025-02-17T19:51:44.077Z"
   },
   {
    "duration": 3,
    "start_time": "2025-02-17T19:51:44.084Z"
   },
   {
    "duration": 232,
    "start_time": "2025-02-17T19:51:44.125Z"
   },
   {
    "duration": 14,
    "start_time": "2025-02-17T19:51:59.569Z"
   },
   {
    "duration": 17,
    "start_time": "2025-02-17T19:52:33.280Z"
   },
   {
    "duration": 1910,
    "start_time": "2025-02-17T19:55:18.495Z"
   },
   {
    "duration": 104,
    "start_time": "2025-02-17T19:55:57.861Z"
   },
   {
    "duration": 113,
    "start_time": "2025-02-17T19:56:33.018Z"
   },
   {
    "duration": 28,
    "start_time": "2025-02-17T20:01:33.751Z"
   },
   {
    "duration": 3,
    "start_time": "2025-02-17T20:01:46.403Z"
   },
   {
    "duration": 891,
    "start_time": "2025-02-17T20:01:51.421Z"
   },
   {
    "duration": 24,
    "start_time": "2025-02-17T20:01:52.314Z"
   },
   {
    "duration": 16,
    "start_time": "2025-02-17T20:01:52.340Z"
   },
   {
    "duration": 30,
    "start_time": "2025-02-17T20:01:52.357Z"
   },
   {
    "duration": 6,
    "start_time": "2025-02-17T20:01:52.389Z"
   },
   {
    "duration": 27,
    "start_time": "2025-02-17T20:01:52.397Z"
   },
   {
    "duration": 4,
    "start_time": "2025-02-17T20:01:52.426Z"
   },
   {
    "duration": 7,
    "start_time": "2025-02-17T20:01:52.431Z"
   },
   {
    "duration": 3,
    "start_time": "2025-02-17T20:01:52.440Z"
   },
   {
    "duration": 15,
    "start_time": "2025-02-17T20:01:52.445Z"
   },
   {
    "duration": 204,
    "start_time": "2025-02-17T20:01:52.462Z"
   },
   {
    "duration": 12,
    "start_time": "2025-02-17T20:01:52.668Z"
   },
   {
    "duration": 6,
    "start_time": "2025-02-17T20:01:52.681Z"
   },
   {
    "duration": 11,
    "start_time": "2025-02-17T20:05:27.683Z"
   },
   {
    "duration": 242,
    "start_time": "2025-02-17T20:05:55.737Z"
   },
   {
    "duration": 17,
    "start_time": "2025-02-17T20:06:12.069Z"
   },
   {
    "duration": 3,
    "start_time": "2025-02-17T20:06:16.728Z"
   },
   {
    "duration": 991,
    "start_time": "2025-02-17T20:06:21.865Z"
   },
   {
    "duration": 16,
    "start_time": "2025-02-17T20:06:22.858Z"
   },
   {
    "duration": 17,
    "start_time": "2025-02-17T20:06:22.876Z"
   },
   {
    "duration": 53,
    "start_time": "2025-02-17T20:06:22.895Z"
   },
   {
    "duration": 6,
    "start_time": "2025-02-17T20:06:22.950Z"
   },
   {
    "duration": 7,
    "start_time": "2025-02-17T20:06:22.958Z"
   },
   {
    "duration": 5,
    "start_time": "2025-02-17T20:06:22.966Z"
   },
   {
    "duration": 6,
    "start_time": "2025-02-17T20:06:22.972Z"
   },
   {
    "duration": 4,
    "start_time": "2025-02-17T20:06:22.979Z"
   },
   {
    "duration": 51,
    "start_time": "2025-02-17T20:06:22.985Z"
   },
   {
    "duration": 165,
    "start_time": "2025-02-17T20:06:23.038Z"
   },
   {
    "duration": 22,
    "start_time": "2025-02-17T20:06:23.205Z"
   },
   {
    "duration": 883,
    "start_time": "2025-02-17T20:07:43.706Z"
   },
   {
    "duration": 654,
    "start_time": "2025-02-17T20:07:53.231Z"
   },
   {
    "duration": 657,
    "start_time": "2025-02-17T20:09:45.410Z"
   },
   {
    "duration": 656,
    "start_time": "2025-02-17T20:11:17.251Z"
   },
   {
    "duration": 991,
    "start_time": "2025-02-17T20:11:35.884Z"
   },
   {
    "duration": 16,
    "start_time": "2025-02-17T20:11:36.877Z"
   },
   {
    "duration": 18,
    "start_time": "2025-02-17T20:11:36.895Z"
   },
   {
    "duration": 40,
    "start_time": "2025-02-17T20:11:36.925Z"
   },
   {
    "duration": 8,
    "start_time": "2025-02-17T20:11:36.968Z"
   },
   {
    "duration": 6,
    "start_time": "2025-02-17T20:11:36.978Z"
   },
   {
    "duration": 3,
    "start_time": "2025-02-17T20:11:36.986Z"
   },
   {
    "duration": 35,
    "start_time": "2025-02-17T20:11:36.991Z"
   },
   {
    "duration": 5,
    "start_time": "2025-02-17T20:11:37.028Z"
   },
   {
    "duration": 18,
    "start_time": "2025-02-17T20:11:37.035Z"
   },
   {
    "duration": 232,
    "start_time": "2025-02-17T20:11:37.054Z"
   },
   {
    "duration": 19,
    "start_time": "2025-02-17T20:11:37.288Z"
   },
   {
    "duration": 711,
    "start_time": "2025-02-17T20:11:37.309Z"
   },
   {
    "duration": 962,
    "start_time": "2025-02-17T20:11:38.024Z"
   },
   {
    "duration": 28,
    "start_time": "2025-02-17T20:13:06.870Z"
   },
   {
    "duration": 3,
    "start_time": "2025-02-17T20:14:12.175Z"
   },
   {
    "duration": 1069,
    "start_time": "2025-02-17T20:14:16.935Z"
   },
   {
    "duration": 19,
    "start_time": "2025-02-17T20:14:18.006Z"
   },
   {
    "duration": 26,
    "start_time": "2025-02-17T20:14:18.027Z"
   },
   {
    "duration": 32,
    "start_time": "2025-02-17T20:14:18.056Z"
   },
   {
    "duration": 7,
    "start_time": "2025-02-17T20:14:18.090Z"
   },
   {
    "duration": 7,
    "start_time": "2025-02-17T20:14:18.098Z"
   },
   {
    "duration": 19,
    "start_time": "2025-02-17T20:14:18.106Z"
   },
   {
    "duration": 8,
    "start_time": "2025-02-17T20:14:18.127Z"
   },
   {
    "duration": 4,
    "start_time": "2025-02-17T20:14:18.136Z"
   },
   {
    "duration": 25,
    "start_time": "2025-02-17T20:14:18.142Z"
   },
   {
    "duration": 206,
    "start_time": "2025-02-17T20:14:18.170Z"
   },
   {
    "duration": 12,
    "start_time": "2025-02-17T20:14:18.380Z"
   },
   {
    "duration": 720,
    "start_time": "2025-02-17T20:14:18.394Z"
   },
   {
    "duration": 1696,
    "start_time": "2025-02-17T20:14:19.117Z"
   },
   {
    "duration": 78,
    "start_time": "2025-02-17T20:18:24.611Z"
   },
   {
    "duration": 228,
    "start_time": "2025-02-17T20:20:23.041Z"
   },
   {
    "duration": 3,
    "start_time": "2025-02-17T20:20:35.544Z"
   },
   {
    "duration": 912,
    "start_time": "2025-02-17T20:36:59.488Z"
   },
   {
    "duration": 22,
    "start_time": "2025-02-17T20:37:00.402Z"
   },
   {
    "duration": 17,
    "start_time": "2025-02-17T20:37:00.426Z"
   },
   {
    "duration": 31,
    "start_time": "2025-02-17T20:37:00.444Z"
   },
   {
    "duration": 6,
    "start_time": "2025-02-17T20:37:00.478Z"
   },
   {
    "duration": 7,
    "start_time": "2025-02-17T20:37:00.486Z"
   },
   {
    "duration": 32,
    "start_time": "2025-02-17T20:37:00.494Z"
   },
   {
    "duration": 6,
    "start_time": "2025-02-17T20:37:00.528Z"
   },
   {
    "duration": 4,
    "start_time": "2025-02-17T20:37:00.536Z"
   },
   {
    "duration": 16,
    "start_time": "2025-02-17T20:37:00.542Z"
   },
   {
    "duration": 191,
    "start_time": "2025-02-17T20:37:00.560Z"
   },
   {
    "duration": 13,
    "start_time": "2025-02-17T20:37:00.752Z"
   },
   {
    "duration": 672,
    "start_time": "2025-02-17T20:37:00.767Z"
   },
   {
    "duration": 1588,
    "start_time": "2025-02-17T20:37:01.442Z"
   },
   {
    "duration": 292348,
    "start_time": "2025-02-17T20:37:03.032Z"
   },
   {
    "duration": 82,
    "start_time": "2025-02-17T20:41:55.382Z"
   },
   {
    "duration": 7,
    "start_time": "2025-02-17T20:51:07.858Z"
   },
   {
    "duration": 4,
    "start_time": "2025-02-17T20:56:48.053Z"
   },
   {
    "duration": 9,
    "start_time": "2025-02-17T20:57:56.770Z"
   },
   {
    "duration": 20,
    "start_time": "2025-02-17T20:58:45.465Z"
   },
   {
    "duration": 11,
    "start_time": "2025-02-17T20:59:10.411Z"
   },
   {
    "duration": 7,
    "start_time": "2025-02-17T21:00:40.142Z"
   },
   {
    "duration": 8,
    "start_time": "2025-02-17T21:01:36.679Z"
   },
   {
    "duration": 262,
    "start_time": "2025-02-17T21:02:27.847Z"
   },
   {
    "duration": 912,
    "start_time": "2025-02-17T21:02:38.156Z"
   },
   {
    "duration": 15,
    "start_time": "2025-02-17T21:02:39.071Z"
   },
   {
    "duration": 17,
    "start_time": "2025-02-17T21:02:39.088Z"
   },
   {
    "duration": 100,
    "start_time": "2025-02-17T21:02:39.107Z"
   },
   {
    "duration": 38,
    "start_time": "2025-02-17T21:02:39.209Z"
   },
   {
    "duration": 7,
    "start_time": "2025-02-17T21:02:39.249Z"
   },
   {
    "duration": 4,
    "start_time": "2025-02-17T21:02:39.258Z"
   },
   {
    "duration": 6,
    "start_time": "2025-02-17T21:02:39.263Z"
   },
   {
    "duration": 4,
    "start_time": "2025-02-17T21:02:39.270Z"
   },
   {
    "duration": 8,
    "start_time": "2025-02-17T21:02:39.275Z"
   },
   {
    "duration": 114,
    "start_time": "2025-02-17T21:02:39.284Z"
   },
   {
    "duration": 5,
    "start_time": "2025-02-17T21:02:39.400Z"
   },
   {
    "duration": 42,
    "start_time": "2025-02-17T21:02:39.406Z"
   },
   {
    "duration": 9,
    "start_time": "2025-02-17T21:02:39.451Z"
   },
   {
    "duration": 16,
    "start_time": "2025-02-17T21:02:39.462Z"
   },
   {
    "duration": 1929,
    "start_time": "2025-02-17T21:02:39.479Z"
   },
   {
    "duration": 916,
    "start_time": "2025-02-17T21:06:00.502Z"
   },
   {
    "duration": 39,
    "start_time": "2025-02-17T21:06:01.421Z"
   },
   {
    "duration": 18,
    "start_time": "2025-02-17T21:06:01.463Z"
   },
   {
    "duration": 97,
    "start_time": "2025-02-17T21:06:01.483Z"
   },
   {
    "duration": 7,
    "start_time": "2025-02-17T21:06:01.582Z"
   },
   {
    "duration": 7,
    "start_time": "2025-02-17T21:06:01.591Z"
   },
   {
    "duration": 3,
    "start_time": "2025-02-17T21:06:01.600Z"
   },
   {
    "duration": 25,
    "start_time": "2025-02-17T21:06:01.605Z"
   },
   {
    "duration": 6,
    "start_time": "2025-02-17T21:06:01.632Z"
   },
   {
    "duration": 13,
    "start_time": "2025-02-17T21:06:01.640Z"
   },
   {
    "duration": 105,
    "start_time": "2025-02-17T21:06:01.655Z"
   },
   {
    "duration": 7,
    "start_time": "2025-02-17T21:06:01.763Z"
   },
   {
    "duration": 15,
    "start_time": "2025-02-17T21:06:01.772Z"
   },
   {
    "duration": 13,
    "start_time": "2025-02-17T21:06:01.791Z"
   },
   {
    "duration": 59,
    "start_time": "2025-02-17T21:06:01.808Z"
   },
   {
    "duration": 1878,
    "start_time": "2025-02-17T21:06:01.870Z"
   },
   {
    "duration": 336104,
    "start_time": "2025-02-17T21:06:03.752Z"
   },
   {
    "duration": 76,
    "start_time": "2025-02-17T21:11:39.858Z"
   },
   {
    "duration": 7,
    "start_time": "2025-02-17T21:11:39.936Z"
   },
   {
    "duration": 6,
    "start_time": "2025-02-17T21:12:31.284Z"
   },
   {
    "duration": 244,
    "start_time": "2025-02-17T21:13:09.267Z"
   },
   {
    "duration": 17,
    "start_time": "2025-02-17T21:13:22.972Z"
   },
   {
    "duration": 132,
    "start_time": "2025-02-17T21:13:29.382Z"
   },
   {
    "duration": 916,
    "start_time": "2025-02-17T21:14:19.623Z"
   },
   {
    "duration": 25,
    "start_time": "2025-02-17T21:14:20.541Z"
   },
   {
    "duration": 18,
    "start_time": "2025-02-17T21:14:20.567Z"
   },
   {
    "duration": 96,
    "start_time": "2025-02-17T21:14:20.587Z"
   },
   {
    "duration": 7,
    "start_time": "2025-02-17T21:14:20.686Z"
   },
   {
    "duration": 6,
    "start_time": "2025-02-17T21:14:20.694Z"
   },
   {
    "duration": 37,
    "start_time": "2025-02-17T21:14:20.702Z"
   },
   {
    "duration": 9,
    "start_time": "2025-02-17T21:14:20.741Z"
   },
   {
    "duration": 3,
    "start_time": "2025-02-17T21:14:20.752Z"
   },
   {
    "duration": 8,
    "start_time": "2025-02-17T21:14:20.757Z"
   },
   {
    "duration": 107,
    "start_time": "2025-02-17T21:14:20.766Z"
   },
   {
    "duration": 5,
    "start_time": "2025-02-17T21:14:20.875Z"
   },
   {
    "duration": 10,
    "start_time": "2025-02-17T21:14:20.881Z"
   },
   {
    "duration": 9,
    "start_time": "2025-02-17T21:14:20.895Z"
   },
   {
    "duration": 66,
    "start_time": "2025-02-17T21:14:20.905Z"
   },
   {
    "duration": 406,
    "start_time": "2025-02-17T21:14:20.973Z"
   },
   {
    "duration": 0,
    "start_time": "2025-02-17T21:14:21.381Z"
   },
   {
    "duration": 0,
    "start_time": "2025-02-17T21:14:21.383Z"
   },
   {
    "duration": 17,
    "start_time": "2025-02-17T21:15:05.175Z"
   },
   {
    "duration": 13,
    "start_time": "2025-02-17T21:15:12.173Z"
   },
   {
    "duration": 36,
    "start_time": "2025-02-17T21:20:03.121Z"
   },
   {
    "duration": 9,
    "start_time": "2025-02-17T21:20:33.591Z"
   },
   {
    "duration": 15,
    "start_time": "2025-02-17T21:31:13.770Z"
   },
   {
    "duration": 26,
    "start_time": "2025-02-17T21:31:20.033Z"
   },
   {
    "duration": 8,
    "start_time": "2025-02-17T21:33:41.250Z"
   },
   {
    "duration": 92,
    "start_time": "2025-02-17T21:47:09.694Z"
   },
   {
    "duration": 954,
    "start_time": "2025-02-17T21:48:12.947Z"
   },
   {
    "duration": 15,
    "start_time": "2025-02-17T21:48:13.904Z"
   },
   {
    "duration": 17,
    "start_time": "2025-02-17T21:48:13.921Z"
   },
   {
    "duration": 86,
    "start_time": "2025-02-17T21:48:13.940Z"
   },
   {
    "duration": 7,
    "start_time": "2025-02-17T21:48:14.029Z"
   },
   {
    "duration": 6,
    "start_time": "2025-02-17T21:48:14.037Z"
   },
   {
    "duration": 4,
    "start_time": "2025-02-17T21:48:14.045Z"
   },
   {
    "duration": 6,
    "start_time": "2025-02-17T21:48:14.050Z"
   },
   {
    "duration": 3,
    "start_time": "2025-02-17T21:48:14.058Z"
   },
   {
    "duration": 8,
    "start_time": "2025-02-17T21:48:14.063Z"
   },
   {
    "duration": 138,
    "start_time": "2025-02-17T21:48:14.072Z"
   },
   {
    "duration": 12,
    "start_time": "2025-02-17T21:48:14.212Z"
   },
   {
    "duration": 10,
    "start_time": "2025-02-17T21:48:14.226Z"
   },
   {
    "duration": 7,
    "start_time": "2025-02-17T21:48:14.239Z"
   },
   {
    "duration": 13,
    "start_time": "2025-02-17T21:48:14.248Z"
   },
   {
    "duration": 77,
    "start_time": "2025-02-17T21:48:14.262Z"
   },
   {
    "duration": 84,
    "start_time": "2025-02-17T21:48:14.341Z"
   },
   {
    "duration": 371,
    "start_time": "2025-02-17T21:48:14.427Z"
   },
   {
    "duration": 0,
    "start_time": "2025-02-17T21:48:14.800Z"
   },
   {
    "duration": 0,
    "start_time": "2025-02-17T21:48:14.802Z"
   },
   {
    "duration": 47,
    "start_time": "2025-02-17T21:52:00.627Z"
   },
   {
    "duration": 151,
    "start_time": "2025-02-17T21:52:36.102Z"
   },
   {
    "duration": 32,
    "start_time": "2025-02-17T21:52:43.957Z"
   },
   {
    "duration": 31,
    "start_time": "2025-02-17T21:52:48.374Z"
   },
   {
    "duration": 32,
    "start_time": "2025-02-17T21:54:30.256Z"
   },
   {
    "duration": 27,
    "start_time": "2025-02-17T21:55:49.287Z"
   },
   {
    "duration": 13,
    "start_time": "2025-02-17T21:55:53.076Z"
   },
   {
    "duration": 3183,
    "start_time": "2025-02-17T22:23:13.719Z"
   },
   {
    "duration": 26,
    "start_time": "2025-02-17T22:23:16.931Z"
   },
   {
    "duration": 18,
    "start_time": "2025-02-17T22:23:16.958Z"
   },
   {
    "duration": 28,
    "start_time": "2025-02-17T22:23:16.979Z"
   },
   {
    "duration": 7,
    "start_time": "2025-02-17T22:23:17.009Z"
   },
   {
    "duration": 19,
    "start_time": "2025-02-17T22:23:17.018Z"
   },
   {
    "duration": 4,
    "start_time": "2025-02-17T22:23:17.039Z"
   },
   {
    "duration": 6,
    "start_time": "2025-02-17T22:23:17.045Z"
   },
   {
    "duration": 3,
    "start_time": "2025-02-17T22:23:17.053Z"
   },
   {
    "duration": 8,
    "start_time": "2025-02-17T22:23:17.058Z"
   },
   {
    "duration": 129,
    "start_time": "2025-02-17T22:23:17.068Z"
   },
   {
    "duration": 4,
    "start_time": "2025-02-17T22:23:17.199Z"
   },
   {
    "duration": 31,
    "start_time": "2025-02-17T22:23:17.205Z"
   },
   {
    "duration": 9,
    "start_time": "2025-02-17T22:23:17.240Z"
   },
   {
    "duration": 18,
    "start_time": "2025-02-17T22:23:17.251Z"
   },
   {
    "duration": 22,
    "start_time": "2025-02-17T22:23:17.331Z"
   },
   {
    "duration": 82,
    "start_time": "2025-02-17T22:23:17.355Z"
   },
   {
    "duration": 115,
    "start_time": "2025-02-17T22:23:17.439Z"
   },
   {
    "duration": 76,
    "start_time": "2025-02-17T22:23:17.556Z"
   },
   {
    "duration": 4,
    "start_time": "2025-02-17T22:23:31.917Z"
   },
   {
    "duration": 18,
    "start_time": "2025-02-17T22:23:31.982Z"
   },
   {
    "duration": 16,
    "start_time": "2025-02-17T22:23:32.002Z"
   },
   {
    "duration": 30,
    "start_time": "2025-02-17T22:23:32.020Z"
   },
   {
    "duration": 8,
    "start_time": "2025-02-17T22:23:32.052Z"
   },
   {
    "duration": 7,
    "start_time": "2025-02-17T22:23:32.062Z"
   },
   {
    "duration": 3,
    "start_time": "2025-02-17T22:23:32.070Z"
   },
   {
    "duration": 9,
    "start_time": "2025-02-17T22:23:32.075Z"
   },
   {
    "duration": 3,
    "start_time": "2025-02-17T22:23:32.086Z"
   },
   {
    "duration": 7,
    "start_time": "2025-02-17T22:23:32.091Z"
   },
   {
    "duration": 131,
    "start_time": "2025-02-17T22:23:32.101Z"
   },
   {
    "duration": 4,
    "start_time": "2025-02-17T22:23:32.234Z"
   },
   {
    "duration": 10,
    "start_time": "2025-02-17T22:23:32.239Z"
   },
   {
    "duration": 10,
    "start_time": "2025-02-17T22:23:32.251Z"
   },
   {
    "duration": 71,
    "start_time": "2025-02-17T22:23:32.263Z"
   },
   {
    "duration": 93,
    "start_time": "2025-02-17T22:23:32.338Z"
   },
   {
    "duration": 11,
    "start_time": "2025-02-17T22:23:32.433Z"
   },
   {
    "duration": 112,
    "start_time": "2025-02-17T22:23:32.446Z"
   },
   {
    "duration": 11,
    "start_time": "2025-02-17T22:23:32.632Z"
   }
  ],
  "kernelspec": {
   "display_name": "Python 3 (ipykernel)",
   "language": "python",
   "name": "python3"
  },
  "language_info": {
   "codemirror_mode": {
    "name": "ipython",
    "version": 3
   },
   "file_extension": ".py",
   "mimetype": "text/x-python",
   "name": "python",
   "nbconvert_exporter": "python",
   "pygments_lexer": "ipython3",
   "version": "3.9.19"
  },
  "toc": {
   "base_numbering": 1,
   "nav_menu": {},
   "number_sections": true,
   "sideBar": true,
   "skip_h1_title": true,
   "title_cell": "Table of Contents",
   "title_sidebar": "Contents",
   "toc_cell": false,
   "toc_position": {},
   "toc_section_display": true,
   "toc_window_display": false
  }
 },
 "nbformat": 4,
 "nbformat_minor": 2
}
